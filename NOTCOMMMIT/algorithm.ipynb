{
 "cells": [
  {
   "cell_type": "code",
   "execution_count": 3,
   "metadata": {},
   "outputs": [
    {
     "data": {
      "application/vnd.jupyter.widget-view+json": {
       "model_id": "31a692daa9524e3fb52cf903bc828d68",
       "version_major": 2,
       "version_minor": 0
      },
      "text/plain": [
       "Output()"
      ]
     },
     "metadata": {},
     "output_type": "display_data"
    }
   ],
   "source": [
    "import numpy as np\n",
    "from rich.progress import track\n",
    "from rich.progress import Progress\n",
    "\n",
    "for i in track(range(1,10000000), description='Progressing..'):\n",
    "    i"
   ]
  },
  {
   "cell_type": "code",
   "execution_count": 25,
   "metadata": {},
   "outputs": [],
   "source": [
    "ingredients = ['linguine', 'pepper', 'ketchup', 'mushroom']\n",
    "index = 1\n",
    "target = 'mushroom'"
   ]
  },
  {
   "cell_type": "code",
   "execution_count": 26,
   "metadata": {},
   "outputs": [
    {
     "data": {
      "text/plain": [
       "['linguine', 'pepper', 'ketchup', 'mushroom']"
      ]
     },
     "execution_count": 26,
     "metadata": {},
     "output_type": "execute_result"
    }
   ],
   "source": [
    "answer = []\n",
    "\n",
    "for idx, i in enumerate(ingredients):\n",
    "    # print(idx, i)\n",
    "    \n",
    "    answer.append(i)\n",
    "    \n",
    "answer"
   ]
  },
  {
   "cell_type": "code",
   "execution_count": 27,
   "metadata": {},
   "outputs": [
    {
     "data": {
      "text/plain": [
       "1"
      ]
     },
     "execution_count": 27,
     "metadata": {},
     "output_type": "execute_result"
    }
   ],
   "source": [
    "# 선택된 것\n",
    "answer.index(answer[index])"
   ]
  },
  {
   "cell_type": "code",
   "execution_count": 28,
   "metadata": {},
   "outputs": [
    {
     "data": {
      "text/plain": [
       "3"
      ]
     },
     "execution_count": 28,
     "metadata": {},
     "output_type": "execute_result"
    }
   ],
   "source": [
    "# 찾아야 하는 것\n",
    "answer.index(target)"
   ]
  },
  {
   "cell_type": "code",
   "execution_count": null,
   "metadata": {},
   "outputs": [],
   "source": [
    "solve = []\n",
    "\n",
    "if answer.index(answer[index]) > answer.index(target):\n",
    "    answer.index(answer[index]) - answer.index(target)\n",
    "    solve.append(answer.index(answer[index]) - answer.index(target))\n",
    "else:\n",
    "    answer.index(target) - answer.index(answer[index])\n",
    "    solve.append(answer.index(target) - answer.index(answer[index]))\n",
    "    \n",
    "solve[0]"
   ]
  },
  {
   "cell_type": "code",
   "execution_count": 3,
   "metadata": {},
   "outputs": [
    {
     "name": "stdout",
     "output_type": "stream",
     "text": [
      "1\n",
      "None\n"
     ]
    }
   ],
   "source": [
    "import numpy as np\n",
    "import pandas as pd\n",
    "\n",
    "\n",
    "ingredients = ['linguine', 'pepper', 'ketchup', 'mushroom']\n",
    "# ingredients = ['linguine', 'pepper', 'ketchup', 'ketchup']\n",
    "index = 1\n",
    "target = 'linguine'\n",
    "\n",
    "\n",
    "# function method\n",
    "def solution(ingredients, index, target):\n",
    "    answer = []\n",
    "    \n",
    "    for i in ingredients:    \n",
    "        answer.append(i)\n",
    "        \n",
    "    # answer = [i for i in ingredients]\n",
    "        \n",
    "    if ingredients.index(target) - index <= len(ingredients)/2:\n",
    "        \n",
    "        if answer.index(answer[index]) > answer.index(target):\n",
    "            answer.index(answer[index]) - answer.index(target)\n",
    "            print(answer.index(answer[index]) - answer.index(target))\n",
    "        else:\n",
    "            answer.index(target) - answer.index(answer[index])\n",
    "            print(answer.index(target) - answer.index(answer[index]))\n",
    "    else:\n",
    "        if answer.index(answer[index]) > answer.index(target):\n",
    "            len(ingredients) + 1 - answer.index(answer[index]) - answer.index(target)\n",
    "            print(answer.index(answer[index]) - answer.index(target))\n",
    "        else:\n",
    "            answer.index(target) - answer.index(answer[index])\n",
    "            print(len(ingredients) + 1 - answer.index(target) - answer.index(answer[index]))\n",
    "\n",
    "\n",
    "\n",
    "# operator main method\n",
    "if __name__ == '__main__':\n",
    "    print(solution(ingredients, index, target))"
   ]
  },
  {
   "cell_type": "code",
   "execution_count": null,
   "metadata": {},
   "outputs": [],
   "source": []
  }
 ],
 "metadata": {
  "kernelspec": {
   "display_name": "Python 3.7.9 64-bit",
   "language": "python",
   "name": "python3"
  },
  "language_info": {
   "codemirror_mode": {
    "name": "ipython",
    "version": 3
   },
   "file_extension": ".py",
   "mimetype": "text/x-python",
   "name": "python",
   "nbconvert_exporter": "python",
   "pygments_lexer": "ipython3",
   "version": "3.7.9"
  },
  "orig_nbformat": 4,
  "vscode": {
   "interpreter": {
    "hash": "31f2aee4e71d21fbe5cf8b01ff0e069b9275f58929596ceb00d14d90e3e16cd6"
   }
  }
 },
 "nbformat": 4,
 "nbformat_minor": 2
}
