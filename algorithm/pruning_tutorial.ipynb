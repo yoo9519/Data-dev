{
 "cells": [
  {
   "cell_type": "code",
   "execution_count": 2,
   "metadata": {},
   "outputs": [
    {
     "name": "stdout",
     "output_type": "stream",
     "text": [
      "1.11.0\n"
     ]
    }
   ],
   "source": [
    "import torch\n",
    "print(torch.__version__)\n",
    "from torch import nn\n",
    "import torch.nn.utils.prune as prune\n",
    "import torch.nn.functional as F"
   ]
  },
  {
   "cell_type": "code",
   "execution_count": 3,
   "metadata": {},
   "outputs": [],
   "source": [
    "device = torch.device(\"cuda\" if torch.cuda.is_available() else \"cpu\")"
   ]
  },
  {
   "cell_type": "code",
   "execution_count": 7,
   "metadata": {},
   "outputs": [],
   "source": [
    "class LeNet(nn.Module):\n",
    "    def __init__(self):\n",
    "        super(LeNet, self).__init__()\n",
    "        self.conv1 = nn.Conv2d(1, 6, 3)\n",
    "        self.conv2 = nn.Conv2d(6, 16, 3)\n",
    "        self.fc1 = nn.Linear(16 * 5 * 5, 120)\n",
    "        self.fc2 = nn.Linear(120, 84)\n",
    "        self.fc3 = nn.Linear(84, 10)\n",
    "        \n",
    "    def forward(self, x):\n",
    "        x = F.max_pool2d(F.relu(self.conv1(x)), (2, 2))\n",
    "        x = F.max_pool2d(F.relu(self.conv1(x)), 2)\n",
    "        x = x.view(-1, int(x.nelement() / x.shape[0]))\n",
    "        x = F.relu(self.fc1(x))\n",
    "        x = F.relu(self.fc2(x))\n",
    "        x = self.fc3(x)\n",
    "        \n",
    "        return x\n",
    "    \n",
    "model = LeNet().to(device=device)"
   ]
  },
  {
   "cell_type": "code",
   "execution_count": 8,
   "metadata": {},
   "outputs": [
    {
     "name": "stdout",
     "output_type": "stream",
     "text": [
      "[('weight', Parameter containing:\n",
      "tensor([[[[ 0.2921, -0.2361,  0.1106],\n",
      "          [ 0.1925,  0.2936, -0.0277],\n",
      "          [-0.1910, -0.2154,  0.0637]]],\n",
      "\n",
      "\n",
      "        [[[ 0.3011, -0.1358, -0.1943],\n",
      "          [ 0.0359, -0.0724, -0.1481],\n",
      "          [ 0.0613,  0.1714,  0.3075]]],\n",
      "\n",
      "\n",
      "        [[[-0.1521, -0.0927,  0.2019],\n",
      "          [ 0.2736, -0.1935,  0.3160],\n",
      "          [ 0.1663, -0.0327, -0.0662]]],\n",
      "\n",
      "\n",
      "        [[[-0.1514, -0.0970,  0.0274],\n",
      "          [-0.0430,  0.0204,  0.0038],\n",
      "          [ 0.1041,  0.2274, -0.0262]]],\n",
      "\n",
      "\n",
      "        [[[ 0.1079,  0.0743, -0.0227],\n",
      "          [ 0.0655,  0.2406, -0.1358],\n",
      "          [ 0.0967,  0.0714,  0.0690]]],\n",
      "\n",
      "\n",
      "        [[[ 0.0306, -0.2271,  0.0495],\n",
      "          [-0.1416,  0.0304,  0.1884],\n",
      "          [ 0.1415,  0.2969,  0.0338]]]], requires_grad=True)), ('bias', Parameter containing:\n",
      "tensor([-0.2984, -0.0605,  0.1349, -0.0800,  0.2079, -0.0446],\n",
      "       requires_grad=True))]\n"
     ]
    }
   ],
   "source": [
    "module = model.conv1\n",
    "print(list(module.named_parameters()))"
   ]
  },
  {
   "cell_type": "code",
   "execution_count": 9,
   "metadata": {},
   "outputs": [
    {
     "name": "stdout",
     "output_type": "stream",
     "text": [
      "[]\n"
     ]
    }
   ],
   "source": [
    "print(list(module.named_buffers()))"
   ]
  },
  {
   "cell_type": "code",
   "execution_count": null,
   "metadata": {},
   "outputs": [],
   "source": []
  }
 ],
 "metadata": {
  "interpreter": {
   "hash": "aee8b7b246df8f9039afb4144a1f6fd8d2ca17a180786b69acc140d282b71a49"
  },
  "kernelspec": {
   "display_name": "Python 3.7.9 64-bit",
   "language": "python",
   "name": "python3"
  },
  "language_info": {
   "codemirror_mode": {
    "name": "ipython",
    "version": 3
   },
   "file_extension": ".py",
   "mimetype": "text/x-python",
   "name": "python",
   "nbconvert_exporter": "python",
   "pygments_lexer": "ipython3",
   "version": "3.7.9"
  },
  "orig_nbformat": 4
 },
 "nbformat": 4,
 "nbformat_minor": 2
}
