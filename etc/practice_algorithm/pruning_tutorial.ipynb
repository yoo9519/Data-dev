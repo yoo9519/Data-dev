{
 "cells": [
  {
   "cell_type": "code",
   "execution_count": 2,
   "metadata": {},
   "outputs": [
    {
     "name": "stdout",
     "output_type": "stream",
     "text": [
      "1.11.0\n"
     ]
    }
   ],
   "source": [
    "import torch\n",
    "print(torch.__version__)\n",
    "from torch import nn\n",
    "import torch.nn.utils.prune as prune\n",
    "import torch.nn.functional as F"
   ]
  },
  {
   "cell_type": "code",
   "execution_count": 3,
   "metadata": {},
   "outputs": [],
   "source": [
    "device = torch.device(\"cuda\" if torch.cuda.is_available() else \"cpu\")"
   ]
  },
  {
   "cell_type": "code",
   "execution_count": 4,
   "metadata": {},
   "outputs": [],
   "source": [
    "class LeNet(nn.Module):\n",
    "    def __init__(self):\n",
    "        super(LeNet, self).__init__()\n",
    "        self.conv1 = nn.Conv2d(1, 6, 3)\n",
    "        self.conv2 = nn.Conv2d(6, 16, 3)\n",
    "        self.fc1 = nn.Linear(16 * 5 * 5, 120)\n",
    "        self.fc2 = nn.Linear(120, 84)\n",
    "        self.fc3 = nn.Linear(84, 10)\n",
    "        \n",
    "    def forward(self, x):\n",
    "        x = F.max_pool2d(F.relu(self.conv1(x)), (2, 2))\n",
    "        x = F.max_pool2d(F.relu(self.conv1(x)), 2)\n",
    "        x = x.view(-1, int(x.nelement() / x.shape[0]))\n",
    "        x = F.relu(self.fc1(x))\n",
    "        x = F.relu(self.fc2(x))\n",
    "        x = self.fc3(x)\n",
    "        \n",
    "        return x\n",
    "    \n",
    "model = LeNet().to(device=device)"
   ]
  },
  {
   "cell_type": "code",
   "execution_count": 5,
   "metadata": {},
   "outputs": [
    {
     "name": "stdout",
     "output_type": "stream",
     "text": [
      "[('weight', Parameter containing:\n",
      "tensor([[[[ 0.0666, -0.2620,  0.1074],\n",
      "          [-0.1598,  0.1049,  0.1527],\n",
      "          [-0.2361,  0.2298,  0.3127]]],\n",
      "\n",
      "\n",
      "        [[[ 0.0284, -0.2753,  0.1269],\n",
      "          [ 0.1618,  0.2772, -0.0157],\n",
      "          [-0.1167,  0.1997,  0.2531]]],\n",
      "\n",
      "\n",
      "        [[[ 0.2158,  0.0095,  0.1519],\n",
      "          [ 0.2447,  0.1981,  0.1379],\n",
      "          [ 0.1105,  0.1449, -0.2628]]],\n",
      "\n",
      "\n",
      "        [[[-0.1802, -0.2523, -0.3006],\n",
      "          [ 0.1046, -0.3260, -0.1194],\n",
      "          [-0.0501, -0.1159,  0.1437]]],\n",
      "\n",
      "\n",
      "        [[[ 0.0746,  0.0294, -0.1666],\n",
      "          [ 0.0631, -0.0391, -0.2990],\n",
      "          [-0.1873,  0.0507,  0.2351]]],\n",
      "\n",
      "\n",
      "        [[[-0.2670,  0.0611, -0.2217],\n",
      "          [ 0.0720,  0.3183, -0.0402],\n",
      "          [-0.0613,  0.2406, -0.0184]]]], requires_grad=True)), ('bias', Parameter containing:\n",
      "tensor([ 0.0111, -0.0594,  0.1493, -0.2532, -0.1392,  0.0758],\n",
      "       requires_grad=True))]\n"
     ]
    }
   ],
   "source": [
    "module = model.conv1\n",
    "print(list(module.named_parameters()))"
   ]
  },
  {
   "cell_type": "code",
   "execution_count": 6,
   "metadata": {},
   "outputs": [
    {
     "name": "stdout",
     "output_type": "stream",
     "text": [
      "named_buffers:  []\n",
      "weight:  Parameter containing:\n",
      "tensor([[[[ 0.0666, -0.2620,  0.1074],\n",
      "          [-0.1598,  0.1049,  0.1527],\n",
      "          [-0.2361,  0.2298,  0.3127]]],\n",
      "\n",
      "\n",
      "        [[[ 0.0284, -0.2753,  0.1269],\n",
      "          [ 0.1618,  0.2772, -0.0157],\n",
      "          [-0.1167,  0.1997,  0.2531]]],\n",
      "\n",
      "\n",
      "        [[[ 0.2158,  0.0095,  0.1519],\n",
      "          [ 0.2447,  0.1981,  0.1379],\n",
      "          [ 0.1105,  0.1449, -0.2628]]],\n",
      "\n",
      "\n",
      "        [[[-0.1802, -0.2523, -0.3006],\n",
      "          [ 0.1046, -0.3260, -0.1194],\n",
      "          [-0.0501, -0.1159,  0.1437]]],\n",
      "\n",
      "\n",
      "        [[[ 0.0746,  0.0294, -0.1666],\n",
      "          [ 0.0631, -0.0391, -0.2990],\n",
      "          [-0.1873,  0.0507,  0.2351]]],\n",
      "\n",
      "\n",
      "        [[[-0.2670,  0.0611, -0.2217],\n",
      "          [ 0.0720,  0.3183, -0.0402],\n",
      "          [-0.0613,  0.2406, -0.0184]]]], requires_grad=True)\n"
     ]
    }
   ],
   "source": [
    "print(\"named_buffers: \",list(module.named_buffers()))\n",
    "print(\"weight: \", module.weight)"
   ]
  },
  {
   "cell_type": "code",
   "execution_count": null,
   "metadata": {},
   "outputs": [],
   "source": []
  }
 ],
 "metadata": {
  "interpreter": {
   "hash": "aee8b7b246df8f9039afb4144a1f6fd8d2ca17a180786b69acc140d282b71a49"
  },
  "kernelspec": {
   "display_name": "Python 3.7.9 64-bit",
   "language": "python",
   "name": "python3"
  },
  "language_info": {
   "codemirror_mode": {
    "name": "ipython",
    "version": 3
   },
   "file_extension": ".py",
   "mimetype": "text/x-python",
   "name": "python",
   "nbconvert_exporter": "python",
   "pygments_lexer": "ipython3",
   "version": "3.7.9"
  },
  "orig_nbformat": 4
 },
 "nbformat": 4,
 "nbformat_minor": 2
}
